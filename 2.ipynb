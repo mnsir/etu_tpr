{
 "cells": [
  {
   "cell_type": "markdown",
   "id": "7e381b0b-3f89-4471-a960-2c132b1063af",
   "metadata": {},
   "source": [
    "### Задача 2\n",
    "---\n",
    "В пункте В2 сталь поступает на условный производственный комплекс, состоящий из сталелитейного и станкостроительного заводов. Он функционирует в течение 5 лет.\n",
    "\n",
    "Начальный запас стали составляет 3100 т (для решения; интервал для исследования — 1000–10000 т (\\*)).\n",
    "Исходные производственные мощности заводов соответственно:\n",
    "- по стали — 4300 т в год;\n",
    "- по станкам — 1300 станков в год (для решения; интервал для исследования — 100–5000 станков). (\\*\\*)\n",
    "\n",
    "Сталь расходуется на производство станков (1.1 т на каждый) и собственно стали, а также на расширение производственных мощностей комплекса. При этом каждая тонна стали, направленная на ее производство, обеспечивает выпуск 3.4 т. Тонна стали, идущая на расширение производственной мощности сталелитейного завода, увеличивает последнюю на 0.1 т, а для увеличения производственных мощностей станкостроительного завода на один станок необходимо затратить 15 т стали. Реализация решения о распределении стали на следующий год осуществляется в конце очередного года планируемого периода; станкостроительный завод не может получать более половины имеющегося запаса стали.\n",
    "\n",
    "Требуется:\n",
    "1. определить план распределения стали между сталелитейным и станкостроительным заводами, обеспечивающий выпуск максимального количества станков за плановый период;\n",
    "1. провести исследование (поочередно, по одному фактору) влияния начальных условий (\\*) и (\\*\\*) на структуру и результат решения (т.е. на распределение стали и на объем выпуска станков).\n"
   ]
  },
  {
   "cell_type": "code",
   "execution_count": 2,
   "id": "88b6221b-d7cc-43e3-98c5-bef652aa98ef",
   "metadata": {},
   "outputs": [
    {
     "ename": "NameError",
     "evalue": "name 'variable' is not defined",
     "output_type": "error",
     "traceback": [
      "\u001b[1;31m---------------------------------------------------------------------------\u001b[0m",
      "\u001b[1;31mNameError\u001b[0m                                 Traceback (most recent call last)",
      "Cell \u001b[1;32mIn[2], line 1\u001b[0m\n\u001b[1;32m----> 1\u001b[0m steel_exp \u001b[38;5;241m=\u001b[39m \u001b[43mvariable\u001b[49m(\u001b[38;5;241m5\u001b[39m, \u001b[38;5;124m'\u001b[39m\u001b[38;5;124msteel_exp\u001b[39m\u001b[38;5;124m'\u001b[39m) \u001b[38;5;66;03m# потрачено на увеличение стали\u001b[39;00m\n\u001b[0;32m      2\u001b[0m machine_exp \u001b[38;5;241m=\u001b[39m variable(\u001b[38;5;241m5\u001b[39m, \u001b[38;5;124m'\u001b[39m\u001b[38;5;124mmachine_exp\u001b[39m\u001b[38;5;124m'\u001b[39m) \u001b[38;5;66;03m# потрачено на увеличение станков\u001b[39;00m\n\u001b[0;32m      3\u001b[0m prod_steel \u001b[38;5;241m=\u001b[39m variable(\u001b[38;5;241m5\u001b[39m, \u001b[38;5;124m'\u001b[39m\u001b[38;5;124mprod_steel\u001b[39m\u001b[38;5;124m'\u001b[39m) \u001b[38;5;66;03m# потрачено на производство стали\u001b[39;00m\n",
      "\u001b[1;31mNameError\u001b[0m: name 'variable' is not defined"
     ]
    }
   ],
   "source": [
    "steel_exp = variable(5, 'steel_exp') # потрачено на увеличение стали\n",
    "machine_exp = variable(5, 'machine_exp') # потрачено на увеличение станков\n",
    "prod_steel = variable(5, 'prod_steel') # потрачено на производство стали\n",
    "prod_machine = variable(5, 'prod_machine') # потрачено на производство станков"
   ]
  },
  {
   "cell_type": "code",
   "execution_count": null,
   "id": "d93b93f9-db0c-41e1-b585-be8711a6cfd5",
   "metadata": {},
   "outputs": [],
   "source": [
    "problem = op(\n",
    "    sum([-prod_machine[]/1.1 for i in range(0, 5)]),\n",
    "    [\n",
    "        # Ограничения по стали\n",
    "        # первый год\n",
    "        steel_exp[0] + steel_exp[0] + prod_steel[0] + prod_machine[0] == initial_steel,\n",
    "        # второй год\n",
    "        steel_exp[1] + machine_exp[1] + machine_exp[1] + prod_machine[1] == steel_convertion_factor * prod_steel[0],\n",
    "        # третий год\n",
    "        steel_exp[2] + machine_exp[2] + prod_steel[2] + prod_machine[2] == steel_convertion_factor * prod_steel[1],\n",
    "        # четвертый год\n",
    "        steel_exp[3] + machine_exp[3] + prod_steel[3] + prod_machine[3] == steel_convertion_factor * prod_steel[2],\n",
    "        # пятый год\n",
    "        steel_exp[4] + machine_exp[4] + prod_steel[4] + prod_machine[4] == steel_convertion_factor * prod_steel[3],\n",
    "        \n",
    "        # Ограничения на производстве стали\n",
    "        steel_convertion_factor * prod_steel[0] <= steel_convertion_factor,\n",
    "        steel_convertion_factor * prod_steel[1] <= initial_steel + production_rice_per_steel + ( steel_exp[0] ),\n",
    "        steel_convertion_factor * prod_steel[2] <= initial_steel + production_rice_per_steel + ( steel_exp[0] + steel_exp[1] ),\n",
    "        steel_convertion_factor * prod_steel[3] <= initial_steel + production_rice_per_steel + ( steel_exp[0] + steel_exp[1] + steel_exp[2] ),\n",
    "        steel_convertion_factor * prod_steel[4] <= initial_steel + production_rice_per_steel + ( steel_exp[0] + steel_exp[1] + steel_exp[2] + steel_exp[3] ),\n",
    "        \n",
    "        # Ограничения на производстве станков\n",
    "        prod_machine[0] / cost_per_machine <= machine_count,\n",
    "        prod_machine[1] / cost_per_machine <= machine_count + machine_rice * ( machine_exp[0] ),\n",
    "        prod_machine[2] / cost_per_machine <= machine_count + machine_rice * ( machine_exp[0] + machine_exp[1] ),\n",
    "        prod_machine[3] / cost_per_machine <= machine_count + machine_rice * ( machine_exp[0] + machine_exp[1] + machine_exp[2] ),\n",
    "        prod_machine[4] / cost_per_machine <= machine_count + machine_rice * ( machine_exp[0] + machine_exp[1] + machine_exp[2] + machine_exp[3] ),\n",
    "        \n",
    "        # Половины ограничений на производстве стали\n",
    "        prod_machine[0] + machine_exp[0] <= 0.5 * ( 6700 ),\n",
    "        prod_machine[1] + machine_exp[1] <= 0.5 * ( steel_convertion_factor * prod_steel[0] ),\n",
    "        prod_machine[2] + machine_exp[2] <= 0.5 * ( steel_convertion_factor * prod_steel[1] ),\n",
    "        prod_machine[3] + machine_exp[3] <= 0.5 * ( steel_convertion_factor * prod_steel[2] ),\n",
    "        prod_machine[4] + machine_exp[4] <= 0.5 * ( steel_convertion_factor * prod_steel[3] )\n",
    "    ])        "
   ]
  },
  {
   "cell_type": "code",
   "execution_count": null,
   "id": "5d99492e-8111-423b-9196-e574d74309ba",
   "metadata": {},
   "outputs": [],
   "source": [
    "problem.solve(solver = 'glpk')"
   ]
  },
  {
   "cell_type": "code",
   "execution_count": null,
   "id": "54c40460-268a-457a-8af8-65b2af37849d",
   "metadata": {},
   "outputs": [],
   "source": [
    "problem.status"
   ]
  },
  {
   "cell_type": "code",
   "execution_count": null,
   "id": "e95ace0a-c69b-4993-9b19-75e6fbb7f201",
   "metadata": {},
   "outputs": [],
   "source": [
    "result = {\n",
    "    'steel_exp': [steel_exp.value[i] for i in range(5)],\n",
    "    'machine_exp': [machine_exp.value[i] for i in range(5)],\n",
    "    'prod_steel': [prod_steel.value[i] for i in range(5)],\n",
    "    'prod_machine': [prod_machine.value[i] for i in range(5)],\n",
    "    'objective_value': -problem.objective.value()[0]\n",
    "}    "
   ]
  },
  {
   "cell_type": "code",
   "execution_count": null,
   "id": "66e7fdd4-ee5d-4161-bd92-2cd9ebef4718",
   "metadata": {},
   "outputs": [],
   "source": [
    "print('Results -> {}'.format(result))"
   ]
  }
 ],
 "metadata": {
  "kernelspec": {
   "display_name": "Python 3 (ipykernel)",
   "language": "python",
   "name": "python3"
  },
  "language_info": {
   "codemirror_mode": {
    "name": "ipython",
    "version": 3
   },
   "file_extension": ".py",
   "mimetype": "text/x-python",
   "name": "python",
   "nbconvert_exporter": "python",
   "pygments_lexer": "ipython3",
   "version": "3.11.0"
  }
 },
 "nbformat": 4,
 "nbformat_minor": 5
}
