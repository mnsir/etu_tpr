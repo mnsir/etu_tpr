{
 "cells": [
  {
   "cell_type": "markdown",
   "id": "7e381b0b-3f89-4471-a960-2c132b1063af",
   "metadata": {},
   "source": [
    "### Задача 2\n",
    "---\n",
    "В пункте В2 сталь поступает на условный производственный комплекс, состоящий из сталелитейного и станкостроительного заводов. Он функционирует в течение 5 лет.\n",
    "\n",
    "Начальный запас стали составляет 3100 т (для решения; интервал для исследования — 1000–10000 т (\\*)).\n",
    "Исходные производственные мощности заводов соответственно:\n",
    "- по стали — 4300 т в год;\n",
    "- по станкам — 1300 станков в год (для решения; интервал для исследования — 100–5000 станков). (\\*\\*)\n",
    "\n",
    "Сталь расходуется на производство станков (1.1 т на каждый) и собственно стали, а также на расширение производственных мощностей комплекса. При этом каждая тонна стали, направленная на ее производство, обеспечивает выпуск 3.4 т. Тонна стали, идущая на расширение производственной мощности сталелитейного завода, увеличивает последнюю на 0.1 т, а для увеличения производственных мощностей станкостроительного завода на один станок необходимо затратить 15 т стали. Реализация решения о распределении стали на следующий год осуществляется в конце очередного года планируемого периода; станкостроительный завод не может получать более половины имеющегося запаса стали.\n",
    "\n",
    "Требуется:\n",
    "1. определить план распределения стали между сталелитейным и станкостроительным заводами, обеспечивающий выпуск максимального количества станков за плановый период;\n",
    "1. провести исследование (поочередно, по одному фактору) влияния начальных условий (\\*) и (\\*\\*) на структуру и результат решения (т.е. на распределение стали и на объем выпуска станков).\n"
   ]
  },
  {
   "cell_type": "code",
   "execution_count": 4,
   "id": "b40af017-aa4c-4871-9bd4-046ce0af6742",
   "metadata": {},
   "outputs": [],
   "source": [
    "import numpy"
   ]
  },
  {
   "cell_type": "code",
   "execution_count": 11,
   "id": "a2ded581-0e6d-4853-b262-a7799ed28107",
   "metadata": {},
   "outputs": [],
   "source": [
    "from cvxopt.modeling import variable\n",
    "from cvxopt.modeling import op"
   ]
  },
  {
   "cell_type": "code",
   "execution_count": 22,
   "id": "88b6221b-d7cc-43e3-98c5-bef652aa98ef",
   "metadata": {},
   "outputs": [],
   "source": [
    "initial_steel = 6900\n",
    "steel_convertion_factor = 2.7\n",
    "production_rice_per_steel = 0.3\n",
    "machine_count = 600\n",
    "cost_per_machine = 1.1 # тонн расход стали на производство станка\n",
    "machine_rice = 1 / 5\n",
    "steel_exp = variable(5, 'steel_exp') # потрачено на увеличение стали\n",
    "machine_exp = variable(5, 'machine_exp') # потрачено на увеличение станков\n",
    "prod_steel = variable(5, 'prod_steel') # потрачено на производство стали\n",
    "prod_machine = variable(5, 'prod_machine') # потрачено на производство станков"
   ]
  },
  {
   "cell_type": "code",
   "execution_count": 23,
   "id": "d93b93f9-db0c-41e1-b585-be8711a6cfd5",
   "metadata": {},
   "outputs": [],
   "source": [
    "problem = op(\n",
    "    sum([-prod_machine[i]/1.1 for i in range(0, 5)]),\n",
    "    [\n",
    "        # Ограничения по стали\n",
    "        # первый год\n",
    "        steel_exp[0] + steel_exp[0] + prod_steel[0] + prod_machine[0] == initial_steel,\n",
    "        # второй год\n",
    "        steel_exp[1] + machine_exp[1] + machine_exp[1] + prod_machine[1] == steel_convertion_factor * prod_steel[0],\n",
    "        # третий год\n",
    "        steel_exp[2] + machine_exp[2] + prod_steel[2] + prod_machine[2] == steel_convertion_factor * prod_steel[1],\n",
    "        # четвертый год\n",
    "        steel_exp[3] + machine_exp[3] + prod_steel[3] + prod_machine[3] == steel_convertion_factor * prod_steel[2],\n",
    "        # пятый год\n",
    "        steel_exp[4] + machine_exp[4] + prod_steel[4] + prod_machine[4] == steel_convertion_factor * prod_steel[3],\n",
    "        \n",
    "        # Ограничения на производстве стали\n",
    "        steel_convertion_factor * prod_steel[0] <= steel_convertion_factor,\n",
    "        steel_convertion_factor * prod_steel[1] <= initial_steel + production_rice_per_steel + ( steel_exp[0] ),\n",
    "        steel_convertion_factor * prod_steel[2] <= initial_steel + production_rice_per_steel + ( steel_exp[0] + steel_exp[1] ),\n",
    "        steel_convertion_factor * prod_steel[3] <= initial_steel + production_rice_per_steel + ( steel_exp[0] + steel_exp[1] + steel_exp[2] ),\n",
    "        steel_convertion_factor * prod_steel[4] <= initial_steel + production_rice_per_steel + ( steel_exp[0] + steel_exp[1] + steel_exp[2] + steel_exp[3] ),\n",
    "        \n",
    "        # Ограничения на производстве станков\n",
    "        prod_machine[0] / cost_per_machine <= machine_count,\n",
    "        prod_machine[1] / cost_per_machine <= machine_count + machine_rice * ( machine_exp[0] ),\n",
    "        prod_machine[2] / cost_per_machine <= machine_count + machine_rice * ( machine_exp[0] + machine_exp[1] ),\n",
    "        prod_machine[3] / cost_per_machine <= machine_count + machine_rice * ( machine_exp[0] + machine_exp[1] + machine_exp[2] ),\n",
    "        prod_machine[4] / cost_per_machine <= machine_count + machine_rice * ( machine_exp[0] + machine_exp[1] + machine_exp[2] + machine_exp[3] ),\n",
    "        \n",
    "        # Половины ограничений на производстве стали\n",
    "        prod_machine[0] + machine_exp[0] <= 0.5 * ( 6700 ),\n",
    "        prod_machine[1] + machine_exp[1] <= 0.5 * ( steel_convertion_factor * prod_steel[0] ),\n",
    "        prod_machine[2] + machine_exp[2] <= 0.5 * ( steel_convertion_factor * prod_steel[1] ),\n",
    "        prod_machine[3] + machine_exp[3] <= 0.5 * ( steel_convertion_factor * prod_steel[2] ),\n",
    "        prod_machine[4] + machine_exp[4] <= 0.5 * ( steel_convertion_factor * prod_steel[3] )\n",
    "    ])        "
   ]
  },
  {
   "cell_type": "code",
   "execution_count": 24,
   "id": "5d99492e-8111-423b-9196-e574d74309ba",
   "metadata": {},
   "outputs": [],
   "source": [
    "problem.solve(solver = 'glpk')"
   ]
  },
  {
   "cell_type": "code",
   "execution_count": 25,
   "id": "54c40460-268a-457a-8af8-65b2af37849d",
   "metadata": {},
   "outputs": [
    {
     "data": {
      "text/plain": [
       "'optimal'"
      ]
     },
     "execution_count": 25,
     "metadata": {},
     "output_type": "execute_result"
    }
   ],
   "source": [
    "problem.status"
   ]
  },
  {
   "cell_type": "code",
   "execution_count": 26,
   "id": "e95ace0a-c69b-4993-9b19-75e6fbb7f201",
   "metadata": {},
   "outputs": [],
   "source": [
    "result = {\n",
    "    'steel_exp': [steel_exp.value[i] for i in range(5)],\n",
    "    'machine_exp': [machine_exp.value[i] for i in range(5)],\n",
    "    'prod_steel': [prod_steel.value[i] for i in range(5)],\n",
    "    'prod_machine': [prod_machine.value[i] for i in range(5)],\n",
    "    'objective_value': -problem.objective.value()[0]\n",
    "}    "
   ]
  },
  {
   "cell_type": "code",
   "execution_count": 27,
   "id": "66e7fdd4-ee5d-4161-bd92-2cd9ebef4718",
   "metadata": {},
   "outputs": [
    {
     "name": "stdout",
     "output_type": "stream",
     "text": [
      "Results -> {'steel_exp': [3119.5, 1251.8, 835.2333333333326, 3640.392793777778, 0.0], 'machine_exp': [2690.0, -1250.45, 4033.1989999999996, 3771.79522, 0.0], 'prod_steel': [0.9999999999999326, 3711.0370370370365, 4174.666666666667, 1995.407206222222, 2693.7997284], 'prod_machine': [660.0, 1251.8, 976.701, 1864.0047800000011, 2693.7997284], 'objective_value': 6769.368644}\n"
     ]
    }
   ],
   "source": [
    "print('Results -> {}'.format(result))"
   ]
  },
  {
   "cell_type": "code",
   "execution_count": null,
   "id": "c6de2286-e20b-40e8-96d8-323cd05bc3c0",
   "metadata": {},
   "outputs": [],
   "source": []
  }
 ],
 "metadata": {
  "kernelspec": {
   "display_name": "Python 3 (ipykernel)",
   "language": "python",
   "name": "python3"
  },
  "language_info": {
   "codemirror_mode": {
    "name": "ipython",
    "version": 3
   },
   "file_extension": ".py",
   "mimetype": "text/x-python",
   "name": "python",
   "nbconvert_exporter": "python",
   "pygments_lexer": "ipython3",
   "version": "3.9.5"
  }
 },
 "nbformat": 4,
 "nbformat_minor": 5
}
