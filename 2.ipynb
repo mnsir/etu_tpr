{
 "cells": [
  {
   "cell_type": "markdown",
   "id": "7e381b0b-3f89-4471-a960-2c132b1063af",
   "metadata": {},
   "source": [
    "### Задача 2\n",
    "---\n",
    "В пункте В2 сталь поступает на условный производственный комплекс, состоящий из сталелитейного и станкостроительного заводов. Он функционирует в течение 5 лет.\n",
    "\n",
    "Начальный запас стали составляет 3100 т (для решения; интервал для исследования — 1000–10000 т (\\*)).\n",
    "Исходные производственные мощности заводов соответственно:\n",
    "- по стали — 4300 т в год;\n",
    "- по станкам — 1300 станков в год (для решения; интервал для исследования — 100–5000 станков). (\\*\\*)\n",
    "\n",
    "Сталь расходуется на производство станков (1.1 т на каждый) и собственно стали, а также на расширение производственных мощностей комплекса. При этом каждая тонна стали, направленная на ее производство, обеспечивает выпуск 3.4 т. Тонна стали, идущая на расширение производственной мощности сталелитейного завода, увеличивает последнюю на 0.1 т, а для увеличения производственных мощностей станкостроительного завода на один станок необходимо затратить 15 т стали. Реализация решения о распределении стали на следующий год осуществляется в конце очередного года планируемого периода; станкостроительный завод не может получать более половины имеющегося запаса стали.\n",
    "\n",
    "Требуется:\n",
    "1. определить план распределения стали между сталелитейным и станкостроительным заводами, обеспечивающий выпуск максимального количества станков за плановый период;\n",
    "1. провести исследование (поочередно, по одному фактору) влияния начальных условий (\\*) и (\\*\\*) на структуру и результат решения (т.е. на распределение стали и на объем выпуска станков).\n"
   ]
  },
  {
   "cell_type": "code",
   "execution_count": 1,
   "id": "a2ded581-0e6d-4853-b262-a7799ed28107",
   "metadata": {},
   "outputs": [],
   "source": [
    "import numpy\n",
    "from cvxopt.modeling import variable\n",
    "from cvxopt.modeling import op\n",
    "import pandas as pd"
   ]
  },
  {
   "cell_type": "code",
   "execution_count": 2,
   "id": "a00bdb86-4bed-4abb-8684-4bb608881b50",
   "metadata": {},
   "outputs": [],
   "source": [
    "years = 5 # период\n",
    "initial_steel_reserve = 6900 # начальный запас стали\n",
    "production_capacity_steel = 2400 # производственная мощность литейки\n",
    "production_capacity_machine = 600 # производственная мощность станков\n",
    "\n",
    "# производство\n",
    "steel_cost = 1 # потрачено на сталь\n",
    "steel_rise = 2.7 # получено стали\n",
    "machine_cost = 1.1 # потрачено на станок\n",
    "machine_rise = 1 # получено станков\n",
    "\n",
    "#pc - production capacity\n",
    "# увеличение производственной мощности\n",
    "steel_pc_cost = 1 # стоимость прироста мощности литейки\n",
    "steel_pc_rise = 0.3 # получен прирост мощности литейки\n",
    "machine_pc_cost = 5 # стоимость прироста мощности литейки\n",
    "machine_pc_rise = 1 # получен прирост мощности литейки"
   ]
  },
  {
   "cell_type": "code",
   "execution_count": 3,
   "id": "ea1bc1d8-eb96-43f6-8013-fe74461ef050",
   "metadata": {},
   "outputs": [],
   "source": [
    "spent_steel_prod = variable(years, 'на произв. стали') # потрачено на производство стали\n",
    "spent_machine_prod = variable(years, 'на произв. станков') # потрачено на производство станков\n",
    "spent_steel_inc = variable(years, 'на ув.кол. стали') # потрачено на увеличение стали\n",
    "spent_machine_inc = variable(years, 'на ув.кол. станков') # потрачено на увеличение станков"
   ]
  },
  {
   "cell_type": "code",
   "execution_count": 4,
   "id": "9ab9f19d-0f17-4aba-93d6-3cfec0a71781",
   "metadata": {},
   "outputs": [],
   "source": [
    "# Получить сталь, которая будет выпущена за год (с коэффициентом)\n",
    "get_released_steel = lambda year: spent_steel_prod[year] / steel_cost * steel_rise\n",
    "\n",
    "# Получить станки, выпущенные за указаный год\n",
    "get_released_machines = lambda year: spent_machine_prod[year] / machine_cost * machine_rise\n",
    "\n",
    "# Получить запас стали на текущий год\n",
    "def get_cur_steel_reserve(year):\n",
    "    if year == 0:\n",
    "        return initial_steel_reserve\n",
    "    return get_released_steel(year-1)\n",
    "\n",
    "# Получить производственную мощь литейки в текущем году\n",
    "def get_current_steel_production_capacity(year):\n",
    "    if year == 0:\n",
    "        return production_capacity_steel\n",
    "    return production_capacity_steel + sum(spent_steel_inc[:year]) / steel_pc_cost * steel_pc_rise\n",
    "\n",
    "# Получить производственную мощь по станкам в текущем году\n",
    "def get_current_machines_production_capacity(year):\n",
    "    if year == 0:\n",
    "        return production_capacity_machine\n",
    "    return production_capacity_machine + sum(spent_machine_inc[:year]) / machine_pc_cost * machine_pc_rise"
   ]
  },
  {
   "cell_type": "code",
   "execution_count": 16,
   "id": "fc4023b5-3128-4e39-800e-40b453bd6930",
   "metadata": {},
   "outputs": [],
   "source": [
    "# Сумма затрат стали в году равна количеству в резерве\n",
    "d0 = [spent_steel_prod[year] + spent_machine_prod[year] + spent_steel_inc[year] + spent_machine_inc[year] == get_cur_steel_reserve(year) for year in range(years)]\n",
    "\n",
    "# Будет выпущено стали не более чем возможно\n",
    "d1 = [get_released_steel(year) <= get_current_steel_production_capacity(year) for year in range(years)]\n",
    "\n",
    "# Будет выпущено станков не более чем возможно\n",
    "d2 = [get_released_machines(year) <= get_current_machines_production_capacity(year) for year in range(years)]\n",
    "\n",
    "# Cтанкостроительный завод не может получать более половины имеющегося запаса стали\n",
    "d3 = [spent_machine_prod[year] + spent_machine_inc[year] <= 0.5 * get_cur_steel_reserve(year) for year in range(years)]\n",
    "\n",
    "# И все затраты не могут быть отрицательными\n",
    "d4 = [spent_steel_prod[year] >= 0 for year in range(years)]\n",
    "d5 = [spent_machine_prod[year] >= 0 for year in range(years)]\n",
    "d6 = [spent_steel_inc[year] >= 0 for year in range(years)]\n",
    "d7 = [spent_machine_inc[year] >= 0 for year in range(years)]"
   ]
  },
  {
   "cell_type": "code",
   "execution_count": 17,
   "id": "d93b93f9-db0c-41e1-b585-be8711a6cfd5",
   "metadata": {},
   "outputs": [],
   "source": [
    "# Решение\n",
    "problem = op(-sum(spent_machine_prod/machine_cost), d0+d1+d2+d3+d4+d5+d6+d7)  \n",
    "problem.solve(solver = 'glpk')\n",
    "problem.status"
   ]
  },
  {
   "cell_type": "code",
   "execution_count": 20,
   "id": "edf4694b-ca87-4c2b-b354-caa7853f75cb",
   "metadata": {},
   "outputs": [
    {
     "name": "stdout",
     "output_type": "stream",
     "text": [
      "5338.269253872055\n"
     ]
    }
   ],
   "source": [
    "# Максимальное количество станков\n",
    "print(-problem.objective.value()[0])"
   ]
  },
  {
   "cell_type": "code",
   "execution_count": 10,
   "id": "7a62fedb-6e3d-48fb-b721-d8366008e0be",
   "metadata": {},
   "outputs": [
    {
     "data": {
      "text/html": [
       "<div>\n",
       "<style scoped>\n",
       "    .dataframe tbody tr th:only-of-type {\n",
       "        vertical-align: middle;\n",
       "    }\n",
       "\n",
       "    .dataframe tbody tr th {\n",
       "        vertical-align: top;\n",
       "    }\n",
       "\n",
       "    .dataframe thead th {\n",
       "        text-align: right;\n",
       "    }\n",
       "</style>\n",
       "<table border=\"1\" class=\"dataframe\">\n",
       "  <thead>\n",
       "    <tr style=\"text-align: right;\">\n",
       "      <th></th>\n",
       "      <th>на произв. стали</th>\n",
       "      <th>на произв. станков</th>\n",
       "      <th>на ув.кол. стали</th>\n",
       "      <th>на ув.кол. станков</th>\n",
       "    </tr>\n",
       "  </thead>\n",
       "  <tbody>\n",
       "    <tr>\n",
       "      <th>0</th>\n",
       "      <td>888.888889</td>\n",
       "      <td>660.000000</td>\n",
       "      <td>2561.111111</td>\n",
       "      <td>2790.000000</td>\n",
       "    </tr>\n",
       "    <tr>\n",
       "      <th>1</th>\n",
       "      <td>1173.456790</td>\n",
       "      <td>1200.000000</td>\n",
       "      <td>26.543210</td>\n",
       "      <td>0.000000</td>\n",
       "    </tr>\n",
       "    <tr>\n",
       "      <th>2</th>\n",
       "      <td>1176.406036</td>\n",
       "      <td>1273.800000</td>\n",
       "      <td>407.760631</td>\n",
       "      <td>310.366667</td>\n",
       "    </tr>\n",
       "    <tr>\n",
       "      <th>3</th>\n",
       "      <td>1034.233713</td>\n",
       "      <td>1342.080667</td>\n",
       "      <td>553.914435</td>\n",
       "      <td>246.067481</td>\n",
       "    </tr>\n",
       "    <tr>\n",
       "      <th>4</th>\n",
       "      <td>1283.258821</td>\n",
       "      <td>1396.215513</td>\n",
       "      <td>112.956692</td>\n",
       "      <td>0.000000</td>\n",
       "    </tr>\n",
       "  </tbody>\n",
       "</table>\n",
       "</div>"
      ],
      "text/plain": [
       "   на произв. стали  на произв. станков  на ув.кол. стали  на ув.кол. станков\n",
       "0        888.888889          660.000000       2561.111111         2790.000000\n",
       "1       1173.456790         1200.000000         26.543210            0.000000\n",
       "2       1176.406036         1273.800000        407.760631          310.366667\n",
       "3       1034.233713         1342.080667        553.914435          246.067481\n",
       "4       1283.258821         1396.215513        112.956692            0.000000"
      ]
     },
     "execution_count": 10,
     "metadata": {},
     "output_type": "execute_result"
    }
   ],
   "source": [
    "# Вывод оптимального решения\n",
    "humanize = lambda x: [x.value[i] for i in range(years)]\n",
    "pd.DataFrame({spent_steel_prod.name: humanize(spent_steel_prod),\n",
    "              spent_machine_prod.name: humanize(spent_machine_prod),\n",
    "              spent_steel_inc.name: humanize(spent_steel_inc),\n",
    "              spent_machine_inc.name: humanize(spent_machine_inc),\n",
    "             })"
   ]
  },
  {
   "cell_type": "code",
   "execution_count": null,
   "id": "edce183b-6649-4ddd-a930-02365bff8de3",
   "metadata": {},
   "outputs": [],
   "source": []
  }
 ],
 "metadata": {
  "kernelspec": {
   "display_name": "Python 3 (ipykernel)",
   "language": "python",
   "name": "python3"
  },
  "language_info": {
   "codemirror_mode": {
    "name": "ipython",
    "version": 3
   },
   "file_extension": ".py",
   "mimetype": "text/x-python",
   "name": "python",
   "nbconvert_exporter": "python",
   "pygments_lexer": "ipython3",
   "version": "3.9.5"
  }
 },
 "nbformat": 4,
 "nbformat_minor": 5
}
