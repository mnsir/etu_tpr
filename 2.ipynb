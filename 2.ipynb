{
 "cells": [
  {
   "cell_type": "markdown",
   "id": "7e381b0b-3f89-4471-a960-2c132b1063af",
   "metadata": {},
   "source": [
    "### Задача 2\n",
    "---\n",
    "В пункте В2 сталь поступает на условный производственный комплекс, состоящий из сталелитейного и станкостроительного заводов. Он функционирует в течение 5 лет.\n",
    "\n",
    "Начальный запас стали составляет 3100 т (для решения; интервал для исследования — 1000–10000 т (\\*)).\n",
    "Исходные производственные мощности заводов соответственно:\n",
    "- по стали — 4300 т в год;\n",
    "- по станкам — 1300 станков в год (для решения; интервал для исследования — 100–5000 станков). (\\*\\*)\n",
    "\n",
    "Сталь расходуется на производство станков (1.1 т на каждый) и собственно стали, а также на расширение производственных мощностей комплекса. При этом каждая тонна стали, направленная на ее производство, обеспечивает выпуск 3.4 т. Тонна стали, идущая на расширение производственной мощности сталелитейного завода, увеличивает последнюю на 0.1 т, а для увеличения производственных мощностей станкостроительного завода на один станок необходимо затратить 15 т стали. Реализация решения о распределении стали на следующий год осуществляется в конце очередного года планируемого периода; станкостроительный завод не может получать более половины имеющегося запаса стали.\n",
    "\n",
    "Требуется:\n",
    "1. определить план распределения стали между сталелитейным и станкостроительным заводами, обеспечивающий выпуск максимального количества станков за плановый период;\n",
    "1. провести исследование (поочередно, по одному фактору) влияния начальных условий (\\*) и (\\*\\*) на структуру и результат решения (т.е. на распределение стали и на объем выпуска станков).\n"
   ]
  },
  {
   "cell_type": "code",
   "execution_count": 1,
   "id": "a2ded581-0e6d-4853-b262-a7799ed28107",
   "metadata": {},
   "outputs": [],
   "source": [
    "import numpy\n",
    "from cvxopt.modeling import variable\n",
    "from cvxopt.modeling import op"
   ]
  },
  {
   "cell_type": "code",
   "execution_count": 2,
   "id": "a00bdb86-4bed-4abb-8684-4bb608881b50",
   "metadata": {},
   "outputs": [],
   "source": [
    "years = 5 # период\n",
    "initial_steel = 6900 # начальный запас стали\n",
    "production_capacity_steel = 2400 # производственная мощность литейки\n",
    "production_capacity_machine = 600 # производственная мощность станков\n",
    "\n",
    "# производство\n",
    "steel_cost = 1 # потрачено на сталь\n",
    "steel_rise = 2.7 # получено стали\n",
    "machine_cost = 1.1 # потрачено на станок\n",
    "machine_rise = 1 # получено станков\n",
    "\n",
    "#pc - production capacity\n",
    "# увеличение производственной мощности\n",
    "steel_pc_cost = 1 # стоимость прироста мощности литейки\n",
    "steel_pc_rise = 0.3 # получен прирост мощности литейки\n",
    "machine_pc_cost = 5 # стоимость прироста мощности литейки\n",
    "machine_pc_rise = 1 # получен прирост мощности литейки"
   ]
  },
  {
   "cell_type": "code",
   "execution_count": 3,
   "id": "ea1bc1d8-eb96-43f6-8013-fe74461ef050",
   "metadata": {},
   "outputs": [],
   "source": [
    "spent_steel_prod = variable(years, 'spent_steel_prod') # потрачено на производство стали\n",
    "spent_machine_prod = variable(years, 'spent_machine_prod') # потрачено на производство станков\n",
    "spent_steel_inc = variable(years, 'spent_steel_inc') # потрачено на увеличение стали\n",
    "spent_machine_inc = variable(years, 'spent_machine_inc') # потрачено на увеличение станков"
   ]
  },
  {
   "cell_type": "code",
   "execution_count": 4,
   "id": "9ab9f19d-0f17-4aba-93d6-3cfec0a71781",
   "metadata": {},
   "outputs": [],
   "source": [
    "get_steel = lambda year: spent_steel_prod[0] / steel_cost * steel_rise"
   ]
  },
  {
   "cell_type": "code",
   "execution_count": 5,
   "id": "fc4023b5-3128-4e39-800e-40b453bd6930",
   "metadata": {},
   "outputs": [],
   "source": [
    "# Ограничения по стали\n",
    "cd = [\n",
    "spent_steel_prod[0] + spent_machine_prod[0] + spent_steel_inc[0] + spent_machine_inc[0] == initial_steel,\n",
    "spent_steel_prod[1] + spent_machine_prod[1] + spent_steel_inc[1] + spent_machine_inc[1] == steel_rise * spent_steel_prod[0],\n",
    "spent_steel_prod[2] + spent_machine_prod[2] + spent_steel_inc[2] + spent_machine_inc[2] == steel_rise * spent_steel_prod[1],\n",
    "spent_steel_prod[3] + spent_machine_prod[3] + spent_steel_inc[3] + spent_machine_inc[3] == steel_rise * spent_steel_prod[2],\n",
    "spent_steel_prod[4] + spent_machine_prod[4] + spent_steel_inc[4] + spent_machine_inc[4] == steel_rise * spent_steel_prod[3],\n",
    "]"
   ]
  },
  {
   "cell_type": "code",
   "execution_count": 6,
   "id": "1d87e9ee-3549-4b44-83e2-463b9c2f1217",
   "metadata": {},
   "outputs": [],
   "source": [
    "# Ограничения на производстве стали\n",
    "sd = [\n",
    "spent_steel_prod[0] / steel_cost * steel_rise <= production_capacity_steel,\n",
    "spent_steel_prod[1] / steel_cost * steel_rise <= production_capacity_steel + sum(spent_steel_inc[:1]) / steel_pc_cost * steel_pc_rise,\n",
    "spent_steel_prod[2] / steel_cost * steel_rise <= production_capacity_steel + sum(spent_steel_inc[:2]) / steel_pc_cost * steel_pc_rise,\n",
    "spent_steel_prod[3] / steel_cost * steel_rise <= production_capacity_steel + sum(spent_steel_inc[:3]) / steel_pc_cost * steel_pc_rise,\n",
    "spent_steel_prod[4] / steel_cost * steel_rise <= production_capacity_steel + sum(spent_steel_inc[:4]) / steel_pc_cost * steel_pc_rise,\n",
    "]"
   ]
  },
  {
   "cell_type": "code",
   "execution_count": 7,
   "id": "e2b6bd43-8c7c-44fc-b7cc-434dc1a6491e",
   "metadata": {},
   "outputs": [],
   "source": [
    "# Ограничения на производстве станков\n",
    "md = [\n",
    "spent_machine_prod[0] / machine_cost * machine_rise <= production_capacity_machine,\n",
    "spent_machine_prod[1] / machine_cost * machine_rise <= production_capacity_machine + sum(spent_machine_inc[:1]) / machine_pc_cost * machine_pc_rise,\n",
    "spent_machine_prod[2] / machine_cost * machine_rise <= production_capacity_machine + sum(spent_machine_inc[:2]) / machine_pc_cost * machine_pc_rise,\n",
    "spent_machine_prod[3] / machine_cost * machine_rise <= production_capacity_machine + sum(spent_machine_inc[:3]) / machine_pc_cost * machine_pc_rise,\n",
    "spent_machine_prod[4] / machine_cost * machine_rise <= production_capacity_machine + sum(spent_machine_inc[:4]) / machine_pc_cost * machine_pc_rise,\n",
    "]"
   ]
  },
  {
   "cell_type": "code",
   "execution_count": 8,
   "id": "06c7f247-b55d-4c9b-af28-1cfc43c32bc2",
   "metadata": {},
   "outputs": [],
   "source": [
    "# Cтанкостроительный завод не может получать более половины имеющегося запаса стали\n",
    "coef = 0.5\n",
    "ad = [\n",
    "spent_machine_prod[0] + spent_machine_inc[0] <= coef * initial_steel,\n",
    "spent_machine_prod[1] + spent_machine_inc[1] <= coef * steel_rise * spent_steel_prod[0],\n",
    "spent_machine_prod[2] + spent_machine_inc[2] <= coef * steel_rise * spent_steel_prod[1],\n",
    "spent_machine_prod[3] + spent_machine_inc[3] <= coef * steel_rise * spent_steel_prod[2],\n",
    "spent_machine_prod[4] + spent_machine_inc[4] <= coef * steel_rise * spent_steel_prod[3]\n",
    "]"
   ]
  },
  {
   "cell_type": "code",
   "execution_count": 9,
   "id": "d93b93f9-db0c-41e1-b585-be8711a6cfd5",
   "metadata": {},
   "outputs": [],
   "source": [
    "problem = op(\n",
    "    -sum(spent_machine_prod/machine_cost),\n",
    "    [\n",
    "        # Ограничения по стали\n",
    "        cd[0], cd[1], cd[2], cd[3], cd[4], \n",
    "        # Ограничения на производстве стали\n",
    "        sd[0], sd[1], sd[2], sd[3], sd[4],        \n",
    "        # Ограничения на производстве станков\n",
    "        md[0], md[1], md[2], md[3], md[4],\n",
    "        # Половины ограничений на производстве стали\n",
    "        ad[0], ad[1], ad[2], ad[3], ad[4],\n",
    "    ]\n",
    ")        "
   ]
  },
  {
   "cell_type": "code",
   "execution_count": 10,
   "id": "5d99492e-8111-423b-9196-e574d74309ba",
   "metadata": {},
   "outputs": [],
   "source": [
    "problem.solve(solver = 'glpk')"
   ]
  },
  {
   "cell_type": "code",
   "execution_count": 11,
   "id": "54c40460-268a-457a-8af8-65b2af37849d",
   "metadata": {},
   "outputs": [
    {
     "data": {
      "text/plain": [
       "'optimal'"
      ]
     },
     "execution_count": 11,
     "metadata": {},
     "output_type": "execute_result"
    }
   ],
   "source": [
    "problem.status"
   ]
  },
  {
   "cell_type": "code",
   "execution_count": 12,
   "id": "edf4694b-ca87-4c2b-b354-caa7853f75cb",
   "metadata": {},
   "outputs": [
    {
     "name": "stdout",
     "output_type": "stream",
     "text": [
      "5370.107378962964\n"
     ]
    }
   ],
   "source": [
    "print(-problem.objective.value()[0])"
   ]
  },
  {
   "cell_type": "code",
   "execution_count": 13,
   "id": "c6de2286-e20b-40e8-96d8-323cd05bc3c0",
   "metadata": {},
   "outputs": [
    {
     "name": "stdout",
     "output_type": "stream",
     "text": [
      "spent_steel_prod [888.8888888888888, 1173.4567901234566, 1176.4060356652947, 1026.91668903155, 1284.0718234561803]\n",
      "spent_machine_prod [660.0, 1273.8000000000002, 1257.5640000000003, 1329.4165866666665, 1386.3375301925926]\n",
      "spent_steel_inc [2561.1111111111113, 26.543209876543482, 407.76063100137173, 561.231459116598, 102.26570673641235]\n",
      "spent_machine_inc [2790.0, -73.80000000000021, 326.60266666666627, 258.7315614814814, 0.0]\n"
     ]
    }
   ],
   "source": [
    "print(spent_steel_prod.name, [spent_steel_prod.value[i] for i in range(5)])\n",
    "print(spent_machine_prod.name, [spent_machine_prod.value[i] for i in range(5)])\n",
    "print(spent_steel_inc.name, [spent_steel_inc.value[i] for i in range(5)])\n",
    "print(spent_machine_inc.name, [spent_machine_inc.value[i] for i in range(5)])"
   ]
  },
  {
   "cell_type": "code",
   "execution_count": null,
   "id": "7a62fedb-6e3d-48fb-b721-d8366008e0be",
   "metadata": {},
   "outputs": [],
   "source": []
  }
 ],
 "metadata": {
  "kernelspec": {
   "display_name": "Python 3 (ipykernel)",
   "language": "python",
   "name": "python3"
  },
  "language_info": {
   "codemirror_mode": {
    "name": "ipython",
    "version": 3
   },
   "file_extension": ".py",
   "mimetype": "text/x-python",
   "name": "python",
   "nbconvert_exporter": "python",
   "pygments_lexer": "ipython3",
   "version": "3.9.5"
  }
 },
 "nbformat": 4,
 "nbformat_minor": 5
}
