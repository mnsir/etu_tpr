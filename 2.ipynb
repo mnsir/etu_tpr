{
 "cells": [
  {
   "cell_type": "markdown",
   "id": "7e381b0b-3f89-4471-a960-2c132b1063af",
   "metadata": {},
   "source": [
    "### Задача 2\n",
    "---\n",
    "В пункте В2 сталь поступает на условный производственный комплекс, состоящий из сталелитейного и станкостроительного заводов. Он функционирует в течение 5 лет.\n",
    "\n",
    "Начальный запас стали составляет __3100__ т (для решения; интервал для исследования — 1000–10000 т (\\*)).\n",
    "Исходные производственные мощности заводов соответственно:\n",
    "- по стали — __4300__ т в год;\n",
    "- по станкам — __1300__ станков в год (для решения; интервал для исследования — 100–5000 станков). (\\*\\*)\n",
    "\n",
    "Сталь расходуется на производство станков (__1.1__ т на каждый) и собственно стали, а также на расширение производственных мощностей комплекса. При этом каждая тонна стали, направленная на ее производство, обеспечивает выпуск __3.4__ т. Тонна стали, идущая на расширение производственной мощности сталелитейного завода, увеличивает последнюю на __0.1__ т, а для увеличения производственных мощностей станкостроительного завода на один станок необходимо затратить __15__ т стали. Реализация решения о распределении стали на следующий год осуществляется в конце очередного года планируемого периода; станкостроительный завод не может получать более половины имеющегося запаса стали.\n",
    "\n",
    "Требуется:\n",
    "1. определить план распределения стали между сталелитейным и станкостроительным заводами, обеспечивающий выпуск __максимального количества станков__ за плановый период;\n",
    "1. провести исследование (поочередно, по одному фактору) влияния начальных условий (\\*) и (\\*\\*) на структуру и результат решения (т.е. на распределение стали и на объем выпуска станков).\n"
   ]
  },
  {
   "cell_type": "code",
   "execution_count": 1,
   "id": "a2ded581-0e6d-4853-b262-a7799ed28107",
   "metadata": {},
   "outputs": [],
   "source": [
    "import numpy\n",
    "from cvxopt.modeling import variable\n",
    "from cvxopt.modeling import op\n",
    "import pandas as pd"
   ]
  },
  {
   "cell_type": "code",
   "execution_count": 2,
   "id": "a00bdb86-4bed-4abb-8684-4bb608881b50",
   "metadata": {},
   "outputs": [],
   "source": [
    "years = 5 # период\n",
    "initial_steel_reserve = 3100 # начальный запас стали\n",
    "production_capacity_steel = 4300 # производственная мощность литейки\n",
    "production_capacity_machine = 1300 # производственная мощность станков\n",
    "\n",
    "# производство\n",
    "steel_cost = 1 # потрачено на сталь\n",
    "steel_rise = 3.4 # получено стали\n",
    "machine_cost = 1.1 # потрачено на станок\n",
    "machine_rise = 1 # получено станков\n",
    "\n",
    "#pc - production capacity\n",
    "# увеличение производственной мощности\n",
    "steel_pc_cost = 1 # стоимость прироста мощности литейки\n",
    "steel_pc_rise = 0.1 # получен прирост мощности литейки\n",
    "machine_pc_cost = 15 # стоимость прироста мощности литейки\n",
    "machine_pc_rise = 1 # получен прирост мощности литейки"
   ]
  },
  {
   "cell_type": "code",
   "execution_count": 3,
   "id": "ea1bc1d8-eb96-43f6-8013-fe74461ef050",
   "metadata": {},
   "outputs": [],
   "source": [
    "spent_steel_prod = variable(years, 'на произв. стали') # потрачено на производство стали\n",
    "spent_machine_prod = variable(years, 'на произв. станков') # потрачено на производство станков\n",
    "spent_steel_inc = variable(years, 'на ув.кол. стали') # потрачено на увеличение стали\n",
    "spent_machine_inc = variable(years, 'на ув.кол. станков') # потрачено на увеличение станков"
   ]
  },
  {
   "cell_type": "code",
   "execution_count": 4,
   "id": "9ab9f19d-0f17-4aba-93d6-3cfec0a71781",
   "metadata": {},
   "outputs": [],
   "source": [
    "# Получить сталь, которая будет выпущена за год (с коэффициентом)\n",
    "get_released_steel = lambda year: spent_steel_prod[year] / steel_cost * steel_rise\n",
    "\n",
    "# Получить станки, выпущенные за указаный год\n",
    "get_released_machines = lambda year: spent_machine_prod[year] / machine_cost * machine_rise\n",
    "\n",
    "# Получить запас стали на текущий год\n",
    "def get_cur_steel_reserve(year):\n",
    "    if year == 0:\n",
    "        return initial_steel_reserve\n",
    "    return get_released_steel(year-1)\n",
    "\n",
    "# Получить производственную мощь литейки в текущем году\n",
    "def get_current_steel_production_capacity(year):\n",
    "    if year == 0:\n",
    "        return production_capacity_steel\n",
    "    return production_capacity_steel + sum(spent_steel_inc[:year]) / steel_pc_cost * steel_pc_rise\n",
    "\n",
    "# Получить производственную мощь по станкам в текущем году\n",
    "def get_current_machines_production_capacity(year):\n",
    "    if year == 0:\n",
    "        return production_capacity_machine\n",
    "    return production_capacity_machine + sum(spent_machine_inc[:year]) / machine_pc_cost * machine_pc_rise"
   ]
  },
  {
   "cell_type": "code",
   "execution_count": 5,
   "id": "fc4023b5-3128-4e39-800e-40b453bd6930",
   "metadata": {},
   "outputs": [],
   "source": [
    "# Сумма затрат стали в году равна количеству в резерве\n",
    "d0 = [spent_steel_prod[year] + spent_machine_prod[year] + spent_steel_inc[year] + spent_machine_inc[year] == get_cur_steel_reserve(year) for year in range(years)]\n",
    "\n",
    "# Будет выпущено стали не более чем возможно\n",
    "d1 = [get_released_steel(year) <= get_current_steel_production_capacity(year) for year in range(years)]\n",
    "\n",
    "# Будет выпущено станков не более чем возможно\n",
    "d2 = [get_released_machines(year) <= get_current_machines_production_capacity(year) for year in range(years)]\n",
    "\n",
    "# Cтанкостроительный завод не может получать более половины имеющегося запаса стали\n",
    "d3 = [spent_machine_prod[year] + spent_machine_inc[year] <= 0.5 * get_cur_steel_reserve(year) for year in range(years)]\n",
    "\n",
    "# И все затраты не могут быть отрицательными\n",
    "d4 = [spent_steel_prod[year] >= 0 for year in range(years)]\n",
    "d5 = [spent_machine_prod[year] >= 0 for year in range(years)]\n",
    "d6 = [spent_steel_inc[year] >= 0 for year in range(years)]\n",
    "d7 = [spent_machine_inc[year] >= 0 for year in range(years)]"
   ]
  },
  {
   "cell_type": "code",
   "execution_count": 6,
   "id": "d93b93f9-db0c-41e1-b585-be8711a6cfd5",
   "metadata": {},
   "outputs": [
    {
     "data": {
      "text/plain": [
       "'optimal'"
      ]
     },
     "execution_count": 6,
     "metadata": {},
     "output_type": "execute_result"
    }
   ],
   "source": [
    "# Решение\n",
    "problem = op(-sum(spent_machine_prod/machine_cost), d0+d1+d2+d3+d4+d5+d6+d7)  \n",
    "problem.solve(solver = 'glpk')\n",
    "problem.status"
   ]
  },
  {
   "cell_type": "code",
   "execution_count": 7,
   "id": "edf4694b-ca87-4c2b-b354-caa7853f75cb",
   "metadata": {},
   "outputs": [
    {
     "name": "stdout",
     "output_type": "stream",
     "text": [
      "6808.533280254261\n"
     ]
    }
   ],
   "source": [
    "# Максимальное количество станков\n",
    "print(-problem.objective.value()[0])"
   ]
  },
  {
   "cell_type": "code",
   "execution_count": 8,
   "id": "7a62fedb-6e3d-48fb-b721-d8366008e0be",
   "metadata": {},
   "outputs": [
    {
     "data": {
      "text/html": [
       "<div>\n",
       "<style scoped>\n",
       "    .dataframe tbody tr th:only-of-type {\n",
       "        vertical-align: middle;\n",
       "    }\n",
       "\n",
       "    .dataframe tbody tr th {\n",
       "        vertical-align: top;\n",
       "    }\n",
       "\n",
       "    .dataframe thead th {\n",
       "        text-align: right;\n",
       "    }\n",
       "</style>\n",
       "<table border=\"1\" class=\"dataframe\">\n",
       "  <thead>\n",
       "    <tr style=\"text-align: right;\">\n",
       "      <th></th>\n",
       "      <th>на произв. стали</th>\n",
       "      <th>на произв. станков</th>\n",
       "      <th>на ув.кол. стали</th>\n",
       "      <th>на ув.кол. станков</th>\n",
       "    </tr>\n",
       "  </thead>\n",
       "  <tbody>\n",
       "    <tr>\n",
       "      <th>0</th>\n",
       "      <td>1264.705882</td>\n",
       "      <td>1430.000000</td>\n",
       "      <td>285.294118</td>\n",
       "      <td>120.000000</td>\n",
       "    </tr>\n",
       "    <tr>\n",
       "      <th>1</th>\n",
       "      <td>1273.096886</td>\n",
       "      <td>1438.800000</td>\n",
       "      <td>876.903114</td>\n",
       "      <td>711.200000</td>\n",
       "    </tr>\n",
       "    <tr>\n",
       "      <th>2</th>\n",
       "      <td>1298.888154</td>\n",
       "      <td>1490.954667</td>\n",
       "      <td>865.376552</td>\n",
       "      <td>673.310039</td>\n",
       "    </tr>\n",
       "    <tr>\n",
       "      <th>3</th>\n",
       "      <td>934.883062</td>\n",
       "      <td>1540.330736</td>\n",
       "      <td>1273.226800</td>\n",
       "      <td>667.779125</td>\n",
       "    </tr>\n",
       "    <tr>\n",
       "      <th>4</th>\n",
       "      <td>1361.788252</td>\n",
       "      <td>1589.301205</td>\n",
       "      <td>227.512953</td>\n",
       "      <td>0.000000</td>\n",
       "    </tr>\n",
       "  </tbody>\n",
       "</table>\n",
       "</div>"
      ],
      "text/plain": [
       "   на произв. стали  на произв. станков  на ув.кол. стали  на ув.кол. станков\n",
       "0       1264.705882         1430.000000        285.294118          120.000000\n",
       "1       1273.096886         1438.800000        876.903114          711.200000\n",
       "2       1298.888154         1490.954667        865.376552          673.310039\n",
       "3        934.883062         1540.330736       1273.226800          667.779125\n",
       "4       1361.788252         1589.301205        227.512953            0.000000"
      ]
     },
     "execution_count": 8,
     "metadata": {},
     "output_type": "execute_result"
    }
   ],
   "source": [
    "# Вывод оптимального решения\n",
    "humanize = lambda x: [x.value[i] for i in range(years)]\n",
    "pd.DataFrame({spent_steel_prod.name: humanize(spent_steel_prod),\n",
    "              spent_machine_prod.name: humanize(spent_machine_prod),\n",
    "              spent_steel_inc.name: humanize(spent_steel_inc),\n",
    "              spent_machine_inc.name: humanize(spent_machine_inc),\n",
    "             })"
   ]
  },
  {
   "cell_type": "code",
   "execution_count": null,
   "id": "edce183b-6649-4ddd-a930-02365bff8de3",
   "metadata": {},
   "outputs": [],
   "source": []
  }
 ],
 "metadata": {
  "kernelspec": {
   "display_name": "Python 3 (ipykernel)",
   "language": "python",
   "name": "python3"
  },
  "language_info": {
   "codemirror_mode": {
    "name": "ipython",
    "version": 3
   },
   "file_extension": ".py",
   "mimetype": "text/x-python",
   "name": "python",
   "nbconvert_exporter": "python",
   "pygments_lexer": "ipython3",
   "version": "3.9.5"
  }
 },
 "nbformat": 4,
 "nbformat_minor": 5
}
