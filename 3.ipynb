{
 "cells": [
  {
   "cell_type": "markdown",
   "id": "0d61db2b-bc73-42b1-a893-f3f49cbcc462",
   "metadata": {
    "tags": []
   },
   "source": [
    "# Задача 3\n",
    "\n",
    "## Постановка задачи\n",
    "---\n",
    "Склад пункта реализации станков имеет вместимость 20 единиц. Пополнение склада возможно только первого числа каждого месяца. Станки привозят автотранспортом (1 рейс), причем\n",
    "стоимость рейса складывается из постоянных затрат 50 денежных единиц (ДЕ) и затрат на доставку каждого станка 10 ДЕ. За один рейс (и, следовательно, в месяц) может быть доставлено\n",
    "не более 5 станков.\n",
    "Затраты на хранение станка в течение месяца составляют 10 ДЕ.\n",
    "Ожидаемый спрос на станки приведен в табл. 1. Отсутствие требуемого количества станков\n",
    "на складе недопустимо.\n",
    "В начальный момент на складе находится 4 станков.\n",
    "1. определить план заказов, минимизирующий стоимость;\n",
    "1. определить границы изменения стоимости хранения станка, в которых найденный план является оптимальным;\n",
    "1. определить границы изменения постоянных затрат на совершение рейса, в которых найденный план является оптимальным;\n",
    "1. определить план заказов, минимизирующий стоимость, при условии, что к концу периода на складе должно остаться 3 станков.\n",
    "\n",
    "Таблица 1: Ожидаемый спрос на станки по месяцам\n",
    "\n",
    "|  | 1 | 2 | 3 | 4 | 5 | 6 |\n",
    "|---|:---:|:---:|:---:|:---:|:---:|:---:|\n",
    "| Спрос, шт. | 0 | 7 | 6 | 3 | 0 | 2 |"
   ]
  },
  {
   "cell_type": "markdown",
   "id": "06d4b12e-d91e-46b1-8141-8d2c7f0df0ab",
   "metadata": {},
   "source": [
    "## Решение задачи\n",
    "Данная задача - задача на динамическое программирование. Решение с подробными комментариями на языке Python представлено ниже. В решении были применены рекурсия и мемоизация. Для сокрытия деталей реализации было решено использовать класс."
   ]
  },
  {
   "cell_type": "code",
   "execution_count": 1,
   "id": "19788054-1632-4901-b11b-06088c4d2c88",
   "metadata": {},
   "outputs": [],
   "source": [
    "class Solver:\n",
    "    def __init__(self):\n",
    "        self.__warehouse_capacity = 20 # вместимость склада 0..20 - состояния\n",
    "        self.__start_remainder = 4 # изначальный остаток на складе\n",
    "        self.__unit_storage_cost = 10 # стоимость хранения единицы\n",
    "        self.__delivery_limit = 5 # ограничение на количество 0..5 управления\n",
    "        self.__delivery_cost = 50 # постоянные затраты на совершение рейса\n",
    "        self.__unit_delivery_cost = 10 # доставка единицы\n",
    "        self.__end_remainder = 0 # конечный остаток на складе\n",
    "        \n",
    "        self.__expected_demand = [0, 7, 6, 3, 0, 2] # ожидаемый спрос по месяцам stages\n",
    "\n",
    "        self.__cache = [{} for _ in self.__expected_demand]\n",
    "        \n",
    "    # Установить размер стоимости хранения станка\n",
    "    def SetUnitStorageCost(self, cost):\n",
    "        self.__unit_storage_cost = cost\n",
    "        return self\n",
    "        \n",
    "    # Установить размер постоянных затрат на доставку\n",
    "    def SetDeliveryCost(self, cost):\n",
    "        self.__delivery_cost = cost\n",
    "        return self\n",
    "        \n",
    "    # Установить конечный остаток (для п.4)\n",
    "    def SetEndRemainder(self, count):\n",
    "        self.__end_remainder = count\n",
    "        return self\n",
    "        \n",
    "    # Расчет стоимости доставки\n",
    "    def __CalcDeliveryCost(self, count):\n",
    "        return 0 if count == 0 else self.__delivery_cost + self.__unit_delivery_cost * count\n",
    "    \n",
    "    # Рекурсивная функция\n",
    "    def __W(self, month, remainder):\n",
    "        if month >= len(self.__expected_demand):\n",
    "            if remainder == self.__end_remainder:\n",
    "                return (0, \"\")\n",
    "            else:\n",
    "                return None\n",
    "        \n",
    "        if remainder in self.__cache[month]:\n",
    "            return self.__cache[month][remainder];\n",
    "    \n",
    "        best = None\n",
    "    \n",
    "        cur_storage_cost = remainder * self.__unit_storage_cost\n",
    "        restrict = lambda n: self.__expected_demand[month] <= remainder + n <= self.__warehouse_capacity\n",
    "        for n in filter(restrict, range(self.__delivery_limit + 1)):\n",
    "            wi = self.__W(month + 1, remainder + n - self.__expected_demand[month])\n",
    "            if wi is not None:\n",
    "                cur_cost = cur_storage_cost + self.__CalcDeliveryCost(n) + wi[0]\n",
    "                if best is None or cur_cost < best[0]:\n",
    "                    best = cur_cost, str(n) + wi[1]\n",
    "                    \n",
    "        self.__cache[month][remainder] = best      \n",
    "        \n",
    "        return best\n",
    "    \n",
    "    def Solve(self):\n",
    "        return self.__W(0, self.__start_remainder)"
   ]
  },
  {
   "cell_type": "code",
   "execution_count": 2,
   "id": "a9dfceb2-09db-495c-b32b-75c6c2ea7d1c",
   "metadata": {},
   "outputs": [
    {
     "name": "stdout",
     "output_type": "stream",
     "text": [
      "0.0 sec\n"
     ]
    }
   ],
   "source": [
    "### Проверка скорости с мемоизацией\n",
    "import time\n",
    "start = time.time()\n",
    "Solver().Solve()\n",
    "print('{} sec'.format(time.time() - start))"
   ]
  },
  {
   "cell_type": "markdown",
   "id": "c6102757-0362-42ce-87c6-605ff1f5096b",
   "metadata": {},
   "source": [
    "### Определить план заказов, минимизирующий стоимость\n"
   ]
  },
  {
   "cell_type": "code",
   "execution_count": 3,
   "id": "3d7ce44f-55f5-4129-9cb8-3b8d00a276b7",
   "metadata": {},
   "outputs": [
    {
     "data": {
      "text/plain": [
       "(420, '045500')"
      ]
     },
     "execution_count": 3,
     "metadata": {},
     "output_type": "execute_result"
    }
   ],
   "source": [
    "cost, seq = Solver().Solve()\n",
    "cost, seq"
   ]
  },
  {
   "cell_type": "markdown",
   "id": "7e009ab3-fb6c-4e84-817e-7cc445629a0a",
   "metadata": {},
   "source": [
    "Лучший вариант работы склада обойдется в __420 у.е.__\n",
    "\n",
    "Таблица 2: Ожидаемый спрос и план заказов  \n",
    "|  | 1 | 2 | 3 | 4 | 5 | 6 |\n",
    "|---|:---:|:---:|:---:|:---:|:---:|:---:|\n",
    "| Спрос, шт. | 0 | 7 | 6 | 3 | 0 | 2 |\n",
    "| Заказ в текущем месяце, шт. | 0 | 4 | 5 | 5 | 0 | 0 |\n",
    "\n",
    "### Определить границы изменения стоимости хранения станка, в которых найденный план является оптимальным"
   ]
  },
  {
   "cell_type": "code",
   "execution_count": 4,
   "id": "d7989e15-990e-4d31-89d2-d4390e6483da",
   "metadata": {},
   "outputs": [
    {
     "name": "stdout",
     "output_type": "stream",
     "text": [
      "bounds:  0 12\n"
     ]
    }
   ],
   "source": [
    "r = list(filter(lambda i: seq == Solver().SetUnitStorageCost(i).Solve()[1], range(300)))\n",
    "print(\"bounds: \", min(r), max(r))"
   ]
  },
  {
   "cell_type": "markdown",
   "id": "736d130d-1cea-4819-bfcd-11ea9856be4f",
   "metadata": {},
   "source": [
    "План является оптимальным, если стоимость хранения станка не превышает __12у.е.__\n",
    "\n",
    "### Определить границы изменения постоянных затрат на совершение рейса, в которых найденный план является оптимальным"
   ]
  },
  {
   "cell_type": "code",
   "execution_count": 5,
   "id": "cdd23b34-ab32-4213-9e1b-aa9ec2f2f72b",
   "metadata": {},
   "outputs": [
    {
     "name": "stdout",
     "output_type": "stream",
     "text": [
      "bounds:  41 2999\n"
     ]
    }
   ],
   "source": [
    "r = list(filter(lambda i: seq == Solver().SetDeliveryCost(i).Solve()[1], range(3000)))\n",
    "print(\"bounds: \", min(r), max(r))"
   ]
  },
  {
   "cell_type": "markdown",
   "id": "49d9da67-1969-44a5-a452-731b159c6560",
   "metadata": {},
   "source": [
    "План является оптимальным, если стоимость постоянных затрат на совершение рейса не ниже __41у.е.__\n",
    "\n",
    "### Определить план заказов, минимизирующий стоимость, при условии, что к концу периода на складе должно остаться 3 станков"
   ]
  },
  {
   "cell_type": "code",
   "execution_count": 6,
   "id": "b9c87a66-e6d5-47b4-a7f7-56127c9bb725",
   "metadata": {},
   "outputs": [
    {
     "data": {
      "text/plain": [
       "(460, '045305')"
      ]
     },
     "execution_count": 6,
     "metadata": {},
     "output_type": "execute_result"
    }
   ],
   "source": [
    "Solver().SetEndRemainder(3).Solve()"
   ]
  },
  {
   "cell_type": "markdown",
   "id": "9bbbb462-e4c6-4827-83af-430137fb0621",
   "metadata": {},
   "source": [
    "Лучший вариант работы склада при условии остатка 3х станков обойдется в __460 у.е.__\n",
    "\n",
    "Таблица 3: Ожидаемый спрос и план заказов при условии остатка 3х станков\n",
    "|  | 1 | 2 | 3 | 4 | 5 | 6 |\n",
    "|---|:---:|:---:|:---:|:---:|:---:|:---:|\n",
    "| Спрос, шт. | 0 | 7 | 6 | 3 | 0 | 2 |\n",
    "| Заказ в текущем месяце, шт. | 0 | 4 | 5 | 3 | 0 | 5 |"
   ]
  }
 ],
 "metadata": {
  "kernelspec": {
   "display_name": "Python 3 (ipykernel)",
   "language": "python",
   "name": "python3"
  },
  "language_info": {
   "codemirror_mode": {
    "name": "ipython",
    "version": 3
   },
   "file_extension": ".py",
   "mimetype": "text/x-python",
   "name": "python",
   "nbconvert_exporter": "python",
   "pygments_lexer": "ipython3",
   "version": "3.9.5"
  }
 },
 "nbformat": 4,
 "nbformat_minor": 5
}
