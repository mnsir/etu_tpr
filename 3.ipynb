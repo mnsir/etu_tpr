{
 "cells": [
  {
   "cell_type": "markdown",
   "id": "0d61db2b-bc73-42b1-a893-f3f49cbcc462",
   "metadata": {
    "tags": []
   },
   "source": [
    "### Задача 3\n",
    "---\n",
    "Склад пункта реализации станков имеет вместимость 20 единиц. Пополнение склада возможно только первого числа каждого месяца. Станки привозят автотранспортом (1 рейс), причем\n",
    "стоимость рейса складывается из постоянных затрат 50 денежных единиц (ДЕ) и затрат на доставку каждого станка 10 ДЕ. За один рейс (и, следовательно, в месяц) может быть доставлено\n",
    "не более 5 станков.\n",
    "Затраты на хранение станка в течение месяца составляют 10 ДЕ.\n",
    "Ожидаемый спрос на станки приведен в табл. 1. Отсутствие требуемого количества станков\n",
    "на складе недопустимо.\n",
    "В начальный момент на складе находится 4 станков.\n",
    "1. определить план заказов, минимизирующий стоимость;\n",
    "1. определить границы изменения стоимости хранения станка, в которых найденный план является оптимальным;\n",
    "1. определить границы изменения постоянных затрат на совершение рейса, в которых найденный план является оптимальным;\n",
    "1. определить план заказов, минимизирующий стоимость, при условии, что к концу периода на складе должно остаться 3 станков.\n",
    "\n",
    "Таблица 1: Ожидаемый спрос на станки по месяцам\n",
    "\n",
    "|  | 1 | 2 | 3 | 4 | 5 | 6 |\n",
    "|---|:---:|:---:|:---:|:---:|:---:|:---:|\n",
    "| Спрос, шт. | 0 | 7 | 6 | 3 | 0 | 2 |"
   ]
  },
  {
   "cell_type": "code",
   "execution_count": 10,
   "id": "57ab76c2-ba91-45f9-a7a9-782e009ccb94",
   "metadata": {},
   "outputs": [],
   "source": [
    "warehouse_capacity = 20 # 0..20 состояния\n",
    "delivery_cost = 50\n",
    "unit_delivery_cost = 10\n",
    "delivery_limit = 5 #u 0..5 управления\n",
    "unit_storage_cost = 10\n",
    "remainder = 4 # остаток на складе state начальное состояние\n",
    "expected_demand = [0, 7, 6, 3, 0, 2] #stages"
   ]
  },
  {
   "cell_type": "code",
   "execution_count": 11,
   "id": "0d3211df-a81a-4cf4-a39f-c04afd2d55be",
   "metadata": {},
   "outputs": [],
   "source": [
    "# Расчет стоимости доставки\n",
    "def CalcDeliveryCost(count):\n",
    "    result = 0\n",
    "    if count != 0:\n",
    "        result = delivery_cost + unit_delivery_cost * count\n",
    "    return result    "
   ]
  },
  {
   "cell_type": "code",
   "execution_count": 12,
   "id": "0e8aa3d5-30b6-447b-b67c-bda5e3db564c",
   "metadata": {},
   "outputs": [],
   "source": [
    "def W(stage, state):\n",
    "        if stage >= len(expected_demand):\n",
    "            return 0\n",
    "        \n",
    "        best_cost = None\n",
    "        utility_func = lambda u: expected_demand[stage] <= state + u <= warehouse_capacity\n",
    "        for u in list(filter(utility_func, [0,1,2,3,4,5])):\n",
    "            month_cost = CalcDeliveryCost(u) + state * unit_storage_cost\n",
    "            cost = month_cost + W(stage + 1, state + u - expected_demand[stage])\n",
    "            if best_w is None or cost < best_cost:\n",
    "                best_cost = cost \n",
    "        return best_cost"
   ]
  },
  {
   "cell_type": "code",
   "execution_count": 13,
   "id": "16caf980-3548-4ae0-bf9f-812ee41f0200",
   "metadata": {},
   "outputs": [
    {
     "ename": "TypeError",
     "evalue": "unsupported operand type(s) for +: 'int' and 'NoneType'",
     "output_type": "error",
     "traceback": [
      "\u001b[1;31m---------------------------------------------------------------------------\u001b[0m",
      "\u001b[1;31mTypeError\u001b[0m                                 Traceback (most recent call last)",
      "Cell \u001b[1;32mIn[13], line 1\u001b[0m\n\u001b[1;32m----> 1\u001b[0m \u001b[43mW\u001b[49m\u001b[43m(\u001b[49m\u001b[38;5;241;43m0\u001b[39;49m\u001b[43m,\u001b[49m\u001b[43m \u001b[49m\u001b[43mremainder\u001b[49m\u001b[43m)\u001b[49m\n",
      "Cell \u001b[1;32mIn[12], line 9\u001b[0m, in \u001b[0;36mW\u001b[1;34m(stage, state)\u001b[0m\n\u001b[0;32m      7\u001b[0m \u001b[38;5;28;01mfor\u001b[39;00m u \u001b[38;5;129;01min\u001b[39;00m \u001b[38;5;28mlist\u001b[39m(\u001b[38;5;28mfilter\u001b[39m(utility_func, [\u001b[38;5;241m0\u001b[39m,\u001b[38;5;241m1\u001b[39m,\u001b[38;5;241m2\u001b[39m,\u001b[38;5;241m3\u001b[39m,\u001b[38;5;241m4\u001b[39m,\u001b[38;5;241m5\u001b[39m])):\n\u001b[0;32m      8\u001b[0m     month_cost \u001b[38;5;241m=\u001b[39m CalcDeliveryCost(u) \u001b[38;5;241m+\u001b[39m state \u001b[38;5;241m*\u001b[39m unit_storage_cost\n\u001b[1;32m----> 9\u001b[0m     cost \u001b[38;5;241m=\u001b[39m month_cost \u001b[38;5;241m+\u001b[39m \u001b[43mW\u001b[49m\u001b[43m(\u001b[49m\u001b[43mstage\u001b[49m\u001b[43m \u001b[49m\u001b[38;5;241;43m+\u001b[39;49m\u001b[43m \u001b[49m\u001b[38;5;241;43m1\u001b[39;49m\u001b[43m,\u001b[49m\u001b[43m \u001b[49m\u001b[43mstate\u001b[49m\u001b[43m \u001b[49m\u001b[38;5;241;43m+\u001b[39;49m\u001b[43m \u001b[49m\u001b[43mu\u001b[49m\u001b[43m \u001b[49m\u001b[38;5;241;43m-\u001b[39;49m\u001b[43m \u001b[49m\u001b[43mexpected_demand\u001b[49m\u001b[43m[\u001b[49m\u001b[43mstage\u001b[49m\u001b[43m]\u001b[49m\u001b[43m)\u001b[49m\n\u001b[0;32m     10\u001b[0m     \u001b[38;5;28;01mif\u001b[39;00m best_w \u001b[38;5;129;01mis\u001b[39;00m \u001b[38;5;28;01mNone\u001b[39;00m \u001b[38;5;129;01mor\u001b[39;00m cost \u001b[38;5;241m<\u001b[39m best_cost:\n\u001b[0;32m     11\u001b[0m         best_cost \u001b[38;5;241m=\u001b[39m cost \n",
      "Cell \u001b[1;32mIn[12], line 9\u001b[0m, in \u001b[0;36mW\u001b[1;34m(stage, state)\u001b[0m\n\u001b[0;32m      7\u001b[0m \u001b[38;5;28;01mfor\u001b[39;00m u \u001b[38;5;129;01min\u001b[39;00m \u001b[38;5;28mlist\u001b[39m(\u001b[38;5;28mfilter\u001b[39m(utility_func, [\u001b[38;5;241m0\u001b[39m,\u001b[38;5;241m1\u001b[39m,\u001b[38;5;241m2\u001b[39m,\u001b[38;5;241m3\u001b[39m,\u001b[38;5;241m4\u001b[39m,\u001b[38;5;241m5\u001b[39m])):\n\u001b[0;32m      8\u001b[0m     month_cost \u001b[38;5;241m=\u001b[39m CalcDeliveryCost(u) \u001b[38;5;241m+\u001b[39m state \u001b[38;5;241m*\u001b[39m unit_storage_cost\n\u001b[1;32m----> 9\u001b[0m     cost \u001b[38;5;241m=\u001b[39m \u001b[43mmonth_cost\u001b[49m\u001b[43m \u001b[49m\u001b[38;5;241;43m+\u001b[39;49m\u001b[43m \u001b[49m\u001b[43mW\u001b[49m\u001b[43m(\u001b[49m\u001b[43mstage\u001b[49m\u001b[43m \u001b[49m\u001b[38;5;241;43m+\u001b[39;49m\u001b[43m \u001b[49m\u001b[38;5;241;43m1\u001b[39;49m\u001b[43m,\u001b[49m\u001b[43m \u001b[49m\u001b[43mstate\u001b[49m\u001b[43m \u001b[49m\u001b[38;5;241;43m+\u001b[39;49m\u001b[43m \u001b[49m\u001b[43mu\u001b[49m\u001b[43m \u001b[49m\u001b[38;5;241;43m-\u001b[39;49m\u001b[43m \u001b[49m\u001b[43mexpected_demand\u001b[49m\u001b[43m[\u001b[49m\u001b[43mstage\u001b[49m\u001b[43m]\u001b[49m\u001b[43m)\u001b[49m\n\u001b[0;32m     10\u001b[0m     \u001b[38;5;28;01mif\u001b[39;00m best_w \u001b[38;5;129;01mis\u001b[39;00m \u001b[38;5;28;01mNone\u001b[39;00m \u001b[38;5;129;01mor\u001b[39;00m cost \u001b[38;5;241m<\u001b[39m best_cost:\n\u001b[0;32m     11\u001b[0m         best_cost \u001b[38;5;241m=\u001b[39m cost \n",
      "\u001b[1;31mTypeError\u001b[0m: unsupported operand type(s) for +: 'int' and 'NoneType'"
     ]
    }
   ],
   "source": [
    "W(0, remainder)"
   ]
  },
  {
   "cell_type": "code",
   "execution_count": 5,
   "id": "a9dfceb2-09db-495c-b32b-75c6c2ea7d1c",
   "metadata": {},
   "outputs": [
    {
     "data": {
      "text/plain": [
       "range(0, 5)"
      ]
     },
     "execution_count": 5,
     "metadata": {},
     "output_type": "execute_result"
    }
   ],
   "source": [
    "a"
   ]
  },
  {
   "cell_type": "code",
   "execution_count": null,
   "id": "b0b2fe55-1a6f-455b-a173-0f8b30428e47",
   "metadata": {},
   "outputs": [],
   "source": []
  }
 ],
 "metadata": {
  "kernelspec": {
   "display_name": "Python 3 (ipykernel)",
   "language": "python",
   "name": "python3"
  },
  "language_info": {
   "codemirror_mode": {
    "name": "ipython",
    "version": 3
   },
   "file_extension": ".py",
   "mimetype": "text/x-python",
   "name": "python",
   "nbconvert_exporter": "python",
   "pygments_lexer": "ipython3",
   "version": "3.11.0"
  }
 },
 "nbformat": 4,
 "nbformat_minor": 5
}
