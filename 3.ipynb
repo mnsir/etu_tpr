{
 "cells": [
  {
   "cell_type": "markdown",
   "id": "0d61db2b-bc73-42b1-a893-f3f49cbcc462",
   "metadata": {
    "tags": []
   },
   "source": [
    "### Задача 3\n",
    "---\n",
    "Склад пункта реализации станков имеет вместимость 20 единиц. Пополнение склада возможно только первого числа каждого месяца. Станки привозят автотранспортом (1 рейс), причем\n",
    "стоимость рейса складывается из постоянных затрат 50 денежных единиц (ДЕ) и затрат на доставку каждого станка 10 ДЕ. За один рейс (и, следовательно, в месяц) может быть доставлено\n",
    "не более 5 станков.\n",
    "Затраты на хранение станка в течение месяца составляют 10 ДЕ.\n",
    "Ожидаемый спрос на станки приведен в табл. 1. Отсутствие требуемого количества станков\n",
    "на складе недопустимо.\n",
    "В начальный момент на складе находится 4 станков.\n",
    "1. определить план заказов, минимизирующий стоимость;\n",
    "1. определить границы изменения стоимости хранения станка, в которых найденный план является оптимальным;\n",
    "1. определить границы изменения постоянных затрат на совершение рейса, в которых найденный план является оптимальным;\n",
    "1. определить план заказов, минимизирующий стоимость, при условии, что к концу периода на складе должно остаться 3 станков.\n",
    "\n",
    "Таблица 1: Ожидаемый спрос на станки по месяцам\n",
    "\n",
    "|  | 1 | 2 | 3 | 4 | 5 | 6 |\n",
    "|---|:---:|:---:|:---:|:---:|:---:|:---:|\n",
    "| Спрос, шт. | 0 | 7 | 6 | 3 | 0 | 2 |"
   ]
  },
  {
   "cell_type": "code",
   "execution_count": null,
   "id": "57ab76c2-ba91-45f9-a7a9-782e009ccb94",
   "metadata": {},
   "outputs": [],
   "source": [
    "wh_capacity = 20\n",
    "delivery_cost = 50\n",
    "unit_delivery_cost = 10\n",
    "delivery_limit = 5\n",
    "unit_storage_cost = 10\n",
    "start_count = 4\n",
    "expected_demand = [0, 7, 6, 3, 0, 2]"
   ]
  },
  {
   "cell_type": "code",
   "execution_count": null,
   "id": "0e8aa3d5-30b6-447b-b67c-bda5e3db564c",
   "metadata": {},
   "outputs": [],
   "source": [
    "class NaiveKnapsackSolver:\n",
    "    def __init__(self, weights, prices, capacity):\n",
    "        self.q = weights\n",
    "        self.p = prices\n",
    "        self.c = capacity\n",
    "        \n",
    "    def W(self, stage, state):\n",
    "        if stage >= len(self.p):\n",
    "            return (0, None)\n",
    "        \n",
    "        best_w = None\n",
    "        best_u = None\n",
    "        for u in [0, 1]:\n",
    "            if u * q[stage] <= state:\n",
    "                wi = self.p[stage] * self.W(stage + 1, state - q[stage] * u)[0]\n",
    "                if best_w is None or wi > best_w:\n",
    "                    best_w = wi\n",
    "                    best_u = u\n",
    "        return (best_w, best_u)\n",
    "    \n",
    "    def solve(self):\n",
    "        return self.W(0, self.c)"
   ]
  },
  {
   "cell_type": "code",
   "execution_count": null,
   "id": "16caf980-3548-4ae0-bf9f-812ee41f0200",
   "metadata": {},
   "outputs": [],
   "source": []
  }
 ],
 "metadata": {
  "kernelspec": {
   "display_name": "Python 3 (ipykernel)",
   "language": "python",
   "name": "python3"
  },
  "language_info": {
   "codemirror_mode": {
    "name": "ipython",
    "version": 3
   },
   "file_extension": ".py",
   "mimetype": "text/x-python",
   "name": "python",
   "nbconvert_exporter": "python",
   "pygments_lexer": "ipython3",
   "version": "3.11.0"
  }
 },
 "nbformat": 4,
 "nbformat_minor": 5
}
