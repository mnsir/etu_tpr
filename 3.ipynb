{
 "cells": [
  {
   "cell_type": "markdown",
   "id": "0d61db2b-bc73-42b1-a893-f3f49cbcc462",
   "metadata": {
    "tags": []
   },
   "source": [
    "### Задача 3\n",
    "---\n",
    "Склад пункта реализации станков имеет вместимость 20 единиц. Пополнение склада возможно только первого числа каждого месяца. Станки привозят автотранспортом (1 рейс), причем\n",
    "стоимость рейса складывается из постоянных затрат 50 денежных единиц (ДЕ) и затрат на доставку каждого станка 10 ДЕ. За один рейс (и, следовательно, в месяц) может быть доставлено\n",
    "не более 5 станков.\n",
    "Затраты на хранение станка в течение месяца составляют 10 ДЕ.\n",
    "Ожидаемый спрос на станки приведен в табл. 1. Отсутствие требуемого количества станков\n",
    "на складе недопустимо.\n",
    "В начальный момент на складе находится 4 станков.\n",
    "1. определить план заказов, минимизирующий стоимость;\n",
    "1. определить границы изменения стоимости хранения станка, в которых найденный план является оптимальным;\n",
    "1. определить границы изменения постоянных затрат на совершение рейса, в которых найденный план является оптимальным;\n",
    "1. определить план заказов, минимизирующий стоимость, при условии, что к концу периода на складе должно остаться 3 станков.\n",
    "\n",
    "Таблица 1: Ожидаемый спрос на станки по месяцам\n",
    "\n",
    "|  | 1 | 2 | 3 | 4 | 5 | 6 |\n",
    "|---|:---:|:---:|:---:|:---:|:---:|:---:|\n",
    "| Спрос, шт. | 0 | 7 | 6 | 3 | 0 | 2 |"
   ]
  },
  {
   "cell_type": "code",
   "execution_count": 1,
   "id": "57ab76c2-ba91-45f9-a7a9-782e009ccb94",
   "metadata": {},
   "outputs": [],
   "source": [
    "warehouse_capacity = 20 # вместимость склада 0..20 - состояния\n",
    "start_remainder = 4 # изначальный остаток на складе\n",
    "end_remainder = 3 # конечный остаток на складе\n",
    "\n",
    "delivery_limit = 5 # ограничение на количество 0..5 управления\n",
    "delivery_cost = 50 # постоянные затраты на совершение рейса\n",
    "unit_delivery_cost = 10 # доставка единицы\n",
    "unit_storage_cost = 10 # стоимость хранения единицы\n",
    "\n",
    "expected_demand = [0, 7, 6, 3, 0, 2] # ожидаемый спрос по месяцам stages"
   ]
  },
  {
   "cell_type": "code",
   "execution_count": 2,
   "id": "19788054-1632-4901-b11b-06088c4d2c88",
   "metadata": {},
   "outputs": [],
   "source": [
    "class Solver:\n",
    "    def __init__(self, unit_storage_cost, delivery_cost, end_remainder):\n",
    "        self.unit_storage_cost = unit_storage_cost\n",
    "        self.delivery_cost = delivery_cost\n",
    "        self.end_remainder = end_remainder\n",
    "        self.cache = [{} for _ in expected_demand]\n",
    "        \n",
    "    # Расчет стоимости доставки\n",
    "    def CalcDeliveryCost(self, count):\n",
    "        res = 0\n",
    "        if count != 0:\n",
    "            res = self.delivery_cost + unit_delivery_cost * count\n",
    "        return res   \n",
    "    \n",
    "    #\n",
    "    def W(self, month, remainder):\n",
    "        if month >= len(expected_demand):\n",
    "            if remainder == self.end_remainder:\n",
    "                return (0, \"\")\n",
    "            else:\n",
    "                return None\n",
    "        \n",
    "        if remainder in self.cache[month]:\n",
    "            return self.cache[month][remainder];\n",
    "    \n",
    "        best = None\n",
    "    \n",
    "        cur_storage_cost = remainder * self.unit_storage_cost\n",
    "        restrict = lambda n: expected_demand[month] <= remainder + n <= warehouse_capacity\n",
    "        for n in filter(restrict, range(delivery_limit + 1)):\n",
    "            wi = self.W(month + 1, remainder + n - expected_demand[month])\n",
    "            if wi is not None:\n",
    "                cur_cost = cur_storage_cost + self.CalcDeliveryCost(n) + wi[0]\n",
    "                if best is None or cur_cost < best[0]:\n",
    "                    best = cur_cost, str(n) + wi[1]\n",
    "                    \n",
    "        self.cache[month][remainder] = best      \n",
    "        \n",
    "        return best"
   ]
  },
  {
   "cell_type": "code",
   "execution_count": 3,
   "id": "a9dfceb2-09db-495c-b32b-75c6c2ea7d1c",
   "metadata": {},
   "outputs": [
    {
     "name": "stdout",
     "output_type": "stream",
     "text": [
      "0.0 seconds\n"
     ]
    }
   ],
   "source": [
    "import time\n",
    "s = Solver(unit_storage_cost, delivery_cost, 0)\n",
    "start = time.time()\n",
    "s.W(0, start_remainder)\n",
    "print(\"% s seconds\" % (time.time() - start))"
   ]
  },
  {
   "cell_type": "code",
   "execution_count": 4,
   "id": "3d7ce44f-55f5-4129-9cb8-3b8d00a276b7",
   "metadata": {},
   "outputs": [
    {
     "data": {
      "text/plain": [
       "(420, '045500')"
      ]
     },
     "execution_count": 4,
     "metadata": {},
     "output_type": "execute_result"
    }
   ],
   "source": [
    "#1\n",
    "s = Solver(unit_storage_cost, delivery_cost, 0)\n",
    "cost, seq = s.W(0, start_remainder)\n",
    "cost, seq"
   ]
  },
  {
   "cell_type": "code",
   "execution_count": 5,
   "id": "d7989e15-990e-4d31-89d2-d4390e6483da",
   "metadata": {},
   "outputs": [
    {
     "name": "stdout",
     "output_type": "stream",
     "text": [
      "bounds:  0 12\n"
     ]
    }
   ],
   "source": [
    "#2\n",
    "reference = Solver(unit_storage_cost, delivery_cost, 0).W(0, start_remainder)[1]\n",
    "restrict = lambda i: reference == Solver(i, delivery_cost, 0).W(0, start_remainder)[1]\n",
    "r = list(filter(restrict, range(300)))\n",
    "print(\"bounds: \", min(r), max(r))"
   ]
  },
  {
   "cell_type": "code",
   "execution_count": 6,
   "id": "cdd23b34-ab32-4213-9e1b-aa9ec2f2f72b",
   "metadata": {},
   "outputs": [
    {
     "name": "stdout",
     "output_type": "stream",
     "text": [
      "bounds:  41 299\n"
     ]
    }
   ],
   "source": [
    "#3\n",
    "reference = Solver(unit_storage_cost, delivery_cost, 0).W(0, start_remainder)[1]\n",
    "restrict = lambda i: reference == Solver(unit_storage_cost, i, 0).W(0, start_remainder)[1]\n",
    "r = list(filter(restrict, range(300)))\n",
    "print(\"bounds: \", min(r), max(r)) # предела сверху вроде как и нет"
   ]
  },
  {
   "cell_type": "code",
   "execution_count": 7,
   "id": "b9c87a66-e6d5-47b4-a7f7-56127c9bb725",
   "metadata": {},
   "outputs": [
    {
     "data": {
      "text/plain": [
       "(460, '045305')"
      ]
     },
     "execution_count": 7,
     "metadata": {},
     "output_type": "execute_result"
    }
   ],
   "source": [
    "#4\n",
    "s = Solver(unit_storage_cost, delivery_cost, end_remainder)\n",
    "cost, seq = s.W(0, start_remainder)\n",
    "cost, seq"
   ]
  },
  {
   "cell_type": "code",
   "execution_count": null,
   "id": "58c67cf5-68b5-4f46-be9d-a5bce35ab3cc",
   "metadata": {},
   "outputs": [],
   "source": []
  }
 ],
 "metadata": {
  "kernelspec": {
   "display_name": "Python 3 (ipykernel)",
   "language": "python",
   "name": "python3"
  },
  "language_info": {
   "codemirror_mode": {
    "name": "ipython",
    "version": 3
   },
   "file_extension": ".py",
   "mimetype": "text/x-python",
   "name": "python",
   "nbconvert_exporter": "python",
   "pygments_lexer": "ipython3",
   "version": "3.9.5"
  }
 },
 "nbformat": 4,
 "nbformat_minor": 5
}
